{
  "nbformat": 4,
  "nbformat_minor": 0,
  "metadata": {
    "kernelspec": {
      "display_name": "Python 3",
      "language": "python",
      "name": "python3"
    },
    "colab": {
      "name": "hubbard_project_final.ipynb",
      "provenance": [],
      "collapsed_sections": []
    }
  },
  "cells": [
    {
      "cell_type": "code",
      "metadata": {
        "id": "TWbbjBxi_oaD"
      },
      "source": [
        "import numpy as np\n",
        "import sys\n",
        "from scipy import linalg as LA\n",
        "\n",
        "np.set_printoptions(threshold=sys.maxsize)"
      ],
      "execution_count": null,
      "outputs": []
    },
    {
      "cell_type": "code",
      "metadata": {
        "colab": {
          "base_uri": "https://localhost:8080/"
        },
        "id": "wxG6qtEK_oaN",
        "outputId": "563e549f-d13f-4b48-fa8d-27b2a1b96191"
      },
      "source": [
        "%%time\n",
        "#N: int # number of electrons\n",
        "N = int(input(\"Enter valu of N : \") or \"4\")\n",
        "t = 1\n",
        "U = 0.5\n",
        "def generate_basis_states():\n",
        "    basis_array = []\n",
        "    for i in range((2**(2*N))-1): # iterate over maximum possible number of states\n",
        "        if bin(i).count(\"1\") == N: # filter out possible states\n",
        "            basis_array.append(i)\n",
        "    # print(\"basis vector representation in decimal for N={0} ->\".format(N), basis_array)\n",
        "    # print(\"count of basis state for N = {0} is:\".format(N), len(basis_array))\n",
        "    return basis_array\n",
        "\n",
        "\n",
        "basis_array = generate_basis_states()\n",
        "print(np.size(basis_array))"
      ],
      "execution_count": null,
      "outputs": []
    },
    {
      "cell_type": "code",
      "metadata": {
        "id": "SwjZwhZV_oaO"
      },
      "source": [
        "#def int_2_vectorized_state(m): # converts integer representation of a state into proper ket numpy array/vector\n"
      ],
      "execution_count": null,
      "outputs": []
    },
    {
      "cell_type": "code",
      "metadata": {
        "id": "KVh_TZ2Y_oaP"
      },
      "source": [
        "import numpy as np\n",
        "\n",
        "def int2bin(num):  # converts given integer 'n' iumnto binary of length 2N and return half parts as I1 and I2\n",
        "    b_str = format(num, 'b').zfill(2*N) # add padding to make the length equal to 2N\n",
        "    return np.fromiter(b_str, dtype=int) #convert str to array \n",
        "    #I1, I2 = b_str[:len(b_str)//2], b_str[len(b_str)//2:] # slicing into I1 and I2\n",
        "    #return np.fromiter(I1, dtype=int), np.fromiter(I2, dtype=int)\n",
        "\n",
        "   \n",
        "# int2bin(15)"
      ],
      "execution_count": null,
      "outputs": []
    },
    {
      "cell_type": "code",
      "metadata": {
        "id": "Q_zxgDB0_oaR"
      },
      "source": [
        "import numpy as np\n",
        "def Ht_operator_matrix(): # procedurally creates Ht operator matrix with #column=2N, #rows=4(N-1)\n",
        "    a_up = np.zeros( (2*N-1, 2*N), dtype=int) \n",
        "    for i in range(2*N-1):\n",
        "        a_up[i][i] = 1\n",
        "        a_up[i][i+1] = -1\n",
        "    a_up = np.delete(a_up,N-1,axis=0) #remove the (n-1) ie the central row from a_up matrix\n",
        "    a_down = a_up* -1 \n",
        "    return np.concatenate((a_up,a_down)) #concatenate a_down below a_up \n",
        "    \n",
        "# c=Ht_operator_matrix()"
      ],
      "execution_count": null,
      "outputs": []
    },
    {
      "cell_type": "code",
      "metadata": {
        "id": "6NOjbddv_oaS",
        "colab": {
          "base_uri": "https://localhost:8080/"
        },
        "outputId": "95e785e1-7aee-4f15-9250-fe655b0bbc2d"
      },
      "source": [
        "%%time\n",
        "import numpy as np\n",
        "def Ht_matrix_calculator():\n",
        "    basis_states = generate_basis_states() # generate the basis state matrix for given N\n",
        "    l = len(basis_states) # size of basis matrix for given N\n",
        "    Ht_matrix = np.zeros((l, l), dtype=int) # final matrix containing l*l elements  to be returned    \n",
        "    H = Ht_operator_matrix() # create Ht operator matrix\n",
        "\n",
        "    for i in range(l):\n",
        "        for j in range(l):\n",
        "            phi_j = int2bin( basis_states[j] ) # pick jth vector from basis state matrix\n",
        "            phi_i = int2bin( basis_states[i] )\n",
        "            #operate H on phi_j. make a 2D (phi_j * height of H) matrix, add it to H element wise, call that H_phi_j\n",
        "            H_phi_j = H + np.tile(phi_j, (4*(N-1),1) )\n",
        "            # operate phi_i from left on H_phi_j , by just counting occurances of phi_i in H_phi_j, then append 1 to Ht_matrix[i][j] for each occurance\n",
        "            occurance_count = sum((H_phi_j == phi_i).all(1))\n",
        "            if occurance_count!=0:\n",
        "                Ht_matrix[i][j]+=1\n",
        "    return -t*Ht_matrix\n",
        "            \n",
        "glob_Ht = Ht_matrix_calculator()   \n",
        "#print(a)      "
      ],
      "execution_count": null,
      "outputs": []
    },
    {
      "cell_type": "code",
      "metadata": {
        "id": "i-VH1Jng_oaU",
        "colab": {
          "base_uri": "https://localhost:8080/"
        },
        "outputId": "94f59fe8-b317-4c00-d8c8-7394cc111e13"
      },
      "source": [
        "%%time\n",
        "def Hu_matrix_calculator():\n",
        "    basis_states = generate_basis_states() # generate basis state for a given N\n",
        "    l = len(basis_states) #length of basis_state array\n",
        "    Hu = np.zeros((l, l), dtype=int) # init empty Hu matrix \n",
        "    for i in range(l): \n",
        "        bin_I = int2bin(basis_states[i])  # convert each integer element of basis_state into binary number I\n",
        "        I= np.hsplit(bin_I,2) #split I in half vertically and add both matrix\n",
        "        sum_matrix = I[0]+I[1]\n",
        "        #[Hu[i][i]= 1 for x in sum_matrix if x==2]\n",
        "        # logic to check of a site contains both upspin and downspin, update Hu[i][i] it its true for ith element in binary state\n",
        "        for x in sum_matrix:\n",
        "            if(x==2):\n",
        "                Hu[i][i]=1\n",
        "    return U*Hu\n",
        "    \n",
        "glob_Hu = Hu_matrix_calculator()\n",
        "#print(a)"
      ],
      "execution_count": null,
      "outputs": []
    },
    {
      "cell_type": "code",
      "metadata": {
        "id": "KbgfVaEU_oaU",
        "colab": {
          "base_uri": "https://localhost:8080/"
        },
        "outputId": "dfbd0a30-0a68-4eb0-84d9-db4884bbcd6a"
      },
      "source": [
        "%%time\n",
        "A = glob_Hu+glob_Ht\n",
        "#print(A)\n",
        "e_vals, e_vecs = LA.eig(A)\n"
      ],
      "execution_count": null,
      "outputs": []
    },
    {
      "cell_type": "code",
      "metadata": {
        "id": "wC3VaWq__oaV"
      },
      "source": [
        "#print(np.round(e_vals,2))\n",
        "#print('*********************')\n",
        "#print(np.round(e_vecs,2))\n"
      ],
      "execution_count": null,
      "outputs": []
    },
    {
      "cell_type": "code",
      "metadata": {
        "id": "7jq8go6N36mw",
        "colab": {
          "base_uri": "https://localhost:8080/"
        },
        "outputId": "f7b0a447-0a5b-4057-d23a-412698f759f5"
      },
      "source": [
        "A   = e_vals\n",
        "pos = np.where(A == np.amin(A))\n",
        "minima_psi = e_vecs[:,int(pos[0])]\n",
        "#minima_psi = e_vecs[:,0]\n",
        "#print(int(pos[0]))\n",
        "np.size(basis_array) "
      ],
      "execution_count": null,
      "outputs": []
    },
    {
      "cell_type": "code",
      "metadata": {
        "id": "BW9sUeznwc8c",
        "colab": {
          "base_uri": "https://localhost:8080/"
        },
        "outputId": "63ed71a1-024e-4879-c849-77a0e455ae0a"
      },
      "source": [
        "mat1  = np.array([basis_array,np.square(np.transpose(minima_psi))]) \n",
        "#print(mat1)\n",
        "b = mat1[:, np.argsort(mat1[-1, :])]\n",
        "#print(b)\n",
        "A   = b[1,:]\n",
        "pos = np.where(A == np.amax(A))\n",
        "#print(pos)\n",
        "#pos[0][0]\n",
        "print(b[0,pos[0][0]])\n",
        "print(b[1,pos[0][0]])\n",
        "max_spin_state = int2bin(int((b[0,pos[0][0]])))\n"
      ],
      "execution_count": null,
      "outputs": []
    },
    {
      "cell_type": "code",
      "metadata": {
        "tags": [
          "nbval-ignore-output"
        ],
        "id": "qf40GVEDzC2N",
        "colab": {
          "base_uri": "https://localhost:8080/",
          "height": 419
        },
        "outputId": "0d728e84-86d8-4d74-80f7-42ba078aff0b"
      },
      "source": [
        "import matplotlib.pyplot as plt\n",
        "%matplotlib inline\n",
        "fig = plt.figure()\n",
        "ax = fig.add_axes([0,0,1,1])\n",
        "ax.bar(b[0,:],b[1,:])\n",
        "plt.xlabel(\"Basis State in Binary\")\n",
        "plt.ylabel(\"Probability(coefficient squared)\")\n",
        "plt.savefig(\"Basis State Probabilities.jpeg\")\n",
        "\n",
        "\n",
        "from google.colab import files\n",
        "#files.download('Basis State Probabilities.jpeg')"
      ],
      "execution_count": null,
      "outputs": []
    },
    {
      "cell_type": "code",
      "metadata": {
        "id": "iulozl16Kk6H",
        "colab": {
          "base_uri": "https://localhost:8080/"
        },
        "outputId": "9fecdf6f-98e4-4cc6-a937-21d058f6db15"
      },
      "source": [
        "max_spin_state"
      ],
      "execution_count": null,
      "outputs": []
    },
    {
      "cell_type": "code",
      "metadata": {
        "id": "1cgOP5qW3jKO"
      },
      "source": [],
      "execution_count": null,
      "outputs": []
    }
  ]
}